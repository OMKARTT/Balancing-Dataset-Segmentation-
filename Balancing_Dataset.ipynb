{
  "nbformat": 4,
  "nbformat_minor": 0,
  "metadata": {
    "colab": {
      "name": "Balancing Dataset.ipynb",
      "provenance": [],
      "include_colab_link": true
    },
    "kernelspec": {
      "name": "python3",
      "display_name": "Python 3"
    }
  },
  "cells": [
    {
      "cell_type": "markdown",
      "metadata": {
        "id": "view-in-github",
        "colab_type": "text"
      },
      "source": [
        "<a href=\"https://colab.research.google.com/github/OMKARTT/Balancing-Dataset-Segmentation-/blob/main/Balancing_Dataset.ipynb\" target=\"_parent\"><img src=\"https://colab.research.google.com/assets/colab-badge.svg\" alt=\"Open In Colab\"/></a>"
      ]
    },
    {
      "cell_type": "code",
      "metadata": {
        "id": "V_qeGDqRMbyv",
        "outputId": "8d9830bd-bee1-49ce-8195-d5919faeaf4e",
        "colab": {
          "base_uri": "https://localhost:8080/"
        }
      },
      "source": [
        "!wget https://conservancy.umn.edu/bitstream/handle/11299/214865/dataset.zip?sequence=12&isAllowed=y"
      ],
      "execution_count": 1,
      "outputs": [
        {
          "output_type": "stream",
          "name": "stdout",
          "text": [
            "--2023-02-25 11:12:57--  https://conservancy.umn.edu/bitstream/handle/11299/214865/dataset.zip?sequence=12\n",
            "Resolving conservancy.umn.edu (conservancy.umn.edu)... 128.101.122.105\n",
            "Connecting to conservancy.umn.edu (conservancy.umn.edu)|128.101.122.105|:443... connected.\n",
            "HTTP request sent, awaiting response... 200 200\n",
            "Length: 553029970 (527M) [application/zip]\n",
            "Saving to: ‘dataset.zip?sequence=12’\n",
            "\n",
            "dataset.zip?sequenc 100%[===================>] 527.41M  4.63MB/s    in 3m 38s  \n",
            "\n",
            "2023-02-25 11:16:36 (2.42 MB/s) - ‘dataset.zip?sequence=12’ saved [553029970/553029970]\n",
            "\n"
          ]
        }
      ]
    },
    {
      "cell_type": "code",
      "metadata": {
        "id": "1zd-WfcQMo7t"
      },
      "source": [
        "!cp dataset.zip?sequence=12 dataset.zip\n",
        "!rm dataset.zip?sequence=12\n",
        "!unzip dataset.zip"
      ],
      "execution_count": null,
      "outputs": []
    },
    {
      "cell_type": "code",
      "metadata": {
        "id": "CpUNJux2Mrn7",
        "outputId": "2b7c9fd8-0c10-40b4-f096-1465ad368929",
        "colab": {
          "base_uri": "https://localhost:8080/"
        }
      },
      "source": [
        "!git clone https://github.com/philferriere/cocoapi.git"
      ],
      "execution_count": 3,
      "outputs": [
        {
          "output_type": "stream",
          "name": "stdout",
          "text": [
            "Cloning into 'cocoapi'...\n",
            "remote: Enumerating objects: 994, done.\u001b[K\n",
            "remote: Total 994 (delta 0), reused 0 (delta 0), pack-reused 994\u001b[K\n",
            "Receiving objects: 100% (994/994), 12.26 MiB | 3.26 MiB/s, done.\n",
            "Resolving deltas: 100% (589/589), done.\n"
          ]
        }
      ]
    },
    {
      "cell_type": "code",
      "metadata": {
        "id": "Eru29GanMvbI"
      },
      "source": [
        "from pycocotools.coco import COCO\n",
        "import numpy as np\n",
        "import skimage.io as io\n",
        "import random\n",
        "import os\n",
        "import cv2\n",
        "from tensorflow.keras.preprocessing.image import ImageDataGenerator\n",
        "\n",
        "### For visualizing the outputs ###\n",
        "import matplotlib.pyplot as plt\n",
        "import matplotlib.gridspec as gridspec\n",
        "%matplotlib inline"
      ],
      "execution_count": 4,
      "outputs": []
    },
    {
      "cell_type": "code",
      "metadata": {
        "id": "Bi2ZWWEmMwPs",
        "outputId": "e41b1105-549a-4a98-9013-578852ac2ef5",
        "colab": {
          "base_uri": "https://localhost:8080/"
        }
      },
      "source": [
        "dataDir='/content/dataset/material_version'\n",
        "dataType='train'\n",
        "annFile='/content/dataset/material_version/instances_train_trashcan.json'.format(dataDir,dataType)\n",
        "\n",
        "# Initialize the COCO api for instance annotations\n",
        "coco=COCO(annFile)\n",
        "\n",
        "# Load the categories in a variable\n",
        "catIDs = coco.getCatIds()\n",
        "cats = coco.loadCats(catIDs)\n",
        "print(len(cats))\n",
        "print(cats)\n",
        "print(catIDs)"
      ],
      "execution_count": 5,
      "outputs": [
        {
          "output_type": "stream",
          "name": "stdout",
          "text": [
            "loading annotations into memory...\n",
            "Done (t=0.54s)\n",
            "creating index...\n",
            "index created!\n",
            "16\n",
            "[{'supercategory': 'rov', 'id': 1, 'name': 'rov'}, {'supercategory': 'plant', 'id': 2, 'name': 'plant'}, {'supercategory': 'animal_fish', 'id': 3, 'name': 'animal_fish'}, {'supercategory': 'animal_starfish', 'id': 4, 'name': 'animal_starfish'}, {'supercategory': 'animal_shells', 'id': 5, 'name': 'animal_shells'}, {'supercategory': 'animal_crab', 'id': 6, 'name': 'animal_crab'}, {'supercategory': 'animal_eel', 'id': 7, 'name': 'animal_eel'}, {'supercategory': 'animal_etc', 'id': 8, 'name': 'animal_etc'}, {'supercategory': 'trash_etc', 'id': 9, 'name': 'trash_etc'}, {'supercategory': 'trash_fabric', 'id': 10, 'name': 'trash_fabric'}, {'supercategory': 'trash_fishing_gear', 'id': 11, 'name': 'trash_fishing_gear'}, {'supercategory': 'trash_metal', 'id': 12, 'name': 'trash_metal'}, {'supercategory': 'trash_paper', 'id': 13, 'name': 'trash_paper'}, {'supercategory': 'trash_plastic', 'id': 14, 'name': 'trash_plastic'}, {'supercategory': 'trash_rubber', 'id': 15, 'name': 'trash_rubber'}, {'supercategory': 'trash_wood', 'id': 16, 'name': 'trash_wood'}]\n",
            "[1, 2, 3, 4, 5, 6, 7, 8, 9, 10, 11, 12, 13, 14, 15, 16]\n"
          ]
        }
      ]
    },
    {
      "cell_type": "code",
      "metadata": {
        "id": "1L20y0l6M263",
        "outputId": "65de7b99-ba51-4526-acb2-30e04c6e948d",
        "colab": {
          "base_uri": "https://localhost:8080/"
        }
      },
      "source": [
        "def getClassName(classID, cats):\n",
        "    for i in range(len(cats)):\n",
        "        if cats[i]['id']==classID:\n",
        "            return cats[i]['name']\n",
        "    return \"None\"\n",
        "print('The class name is', getClassName(2, cats))"
      ],
      "execution_count": 6,
      "outputs": [
        {
          "output_type": "stream",
          "name": "stdout",
          "text": [
            "The class name is plant\n"
          ]
        }
      ]
    },
    {
      "cell_type": "code",
      "metadata": {
        "id": "7EkKc99YM5mH",
        "outputId": "d6603afa-af13-479f-8b97-432128e621d7",
        "colab": {
          "base_uri": "https://localhost:8080/"
        }
      },
      "source": [
        "# Define the classes (out of the 81) which you want to see. Others will not be shown.\n",
        "filterClasses = ['none']\n",
        "\n",
        "# Fetch class IDs only corresponding to the filterClasses\n",
        "catIds = coco.getCatIds(catNms=filterClasses) \n",
        "# Get all images containing the above Category IDs\n",
        "imgIds = coco.getImgIds(catIds=catIds)\n",
        "print(\"Number of images containing all the  classes:\", len(imgIds))\n"
      ],
      "execution_count": 7,
      "outputs": [
        {
          "output_type": "stream",
          "name": "stdout",
          "text": [
            "Number of images containing all the  classes: 6008\n"
          ]
        }
      ]
    },
    {
      "cell_type": "code",
      "metadata": {
        "id": "xryCvut0M7QH"
      },
      "source": [
        "os.mkdir(\"/content/dataset/material_version/train_mask\")"
      ],
      "execution_count": 8,
      "outputs": []
    },
    {
      "cell_type": "code",
      "metadata": {
        "id": "Vkf8CwEOM-x4"
      },
      "source": [
        "def pixel_value(index):\n",
        "  #print(\"Categoory\",index)\n",
        "  if index==1:    #rov\n",
        "    return 1\n",
        "  elif index==2:   # plant\n",
        "    return 2\n",
        "  elif index>=3 and index<=8:   #animal\n",
        "    return 3\n",
        "  elif index>=9 and index<=16:  #trash\n",
        "    return 4"
      ],
      "execution_count": 9,
      "outputs": []
    },
    {
      "cell_type": "code",
      "metadata": {
        "id": "a9f7bdjWNAT_"
      },
      "source": [
        "fix=20"
      ],
      "execution_count": 10,
      "outputs": []
    },
    {
      "cell_type": "code",
      "metadata": {
        "id": "WzgSs_1gNBsf"
      },
      "source": [
        "clcount=[0]*17"
      ],
      "execution_count": 11,
      "outputs": []
    },
    {
      "cell_type": "code",
      "metadata": {
        "id": "YBr7ep7RNDWa",
        "outputId": "8fdb9542-e6be-4986-8728-d8a1f4c56c06",
        "colab": {
          "base_uri": "https://localhost:8080/"
        }
      },
      "source": [
        "clscount=[0,150,150,20,20,20,20,20,20,20,20,20,20,20,20,20,20]\n",
        "clscount[1]"
      ],
      "execution_count": 12,
      "outputs": [
        {
          "output_type": "execute_result",
          "data": {
            "text/plain": [
              "150"
            ]
          },
          "metadata": {},
          "execution_count": 12
        }
      ]
    },
    {
      "cell_type": "code",
      "metadata": {
        "id": "GLLlOudRNE2Q"
      },
      "source": [
        "def class_count(count):\n",
        "  global clcount\n",
        "  if clcount[count]<=clscount[count]:\n",
        "    clcount[count]=clcount[count]+1\n",
        "    return 0\n",
        "  else:\n",
        "    return 1"
      ],
      "execution_count": 13,
      "outputs": []
    },
    {
      "cell_type": "code",
      "metadata": {
        "id": "s-BYv_SzNGLg"
      },
      "source": [
        "count1=0\n",
        "count2=0\n",
        "count3=0\n",
        "count4=0"
      ],
      "execution_count": 14,
      "outputs": []
    },
    {
      "cell_type": "code",
      "metadata": {
        "id": "Mb_NRBdcNIVw"
      },
      "source": [
        "def classcount(mul):\n",
        "  global count1\n",
        "  global count2\n",
        "  global count3\n",
        "  global count4\n",
        "  if mul==1:\n",
        "    count1=count1+1\n",
        "    return 0\n",
        "  elif mul==2 :\n",
        "    count2=count2+1\n",
        "    return 0\n",
        "  elif mul==3:\n",
        "    count3=count3+1\n",
        "    return 0\n",
        "  elif mul==4:\n",
        "    count4=count4+1\n",
        "    return 0\n",
        "  else:\n",
        "    return 1"
      ],
      "execution_count": 16,
      "outputs": []
    },
    {
      "cell_type": "code",
      "metadata": {
        "id": "OJF-O2mlNJzh"
      },
      "source": [
        "def conversion(i):\n",
        "  filterClasses = ['rov','plant','animal_fish','animal_starfish','animal_shells',\n",
        "                  'animal_crab','animal_eel','animal_etc','trash_etc','trash_fabric',\n",
        "                 'trash_fishing_gear','trash_metal','trash_paper','trash_plastic',\n",
        "                 'trash_rubber','trash_wood']\n",
        "  img = coco.loadImgs(imgIds[i])[0]\n",
        "  print(img)\n",
        "  I = io.imread('{}/{}/{}'.format(dataDir,dataType,img['file_name']))/255.0\n",
        "  annIds = coco.getAnnIds(imgIds=img['id'], catIds=catIds, iscrowd=None)\n",
        "  #print(img['file_name'])\n",
        "  #print(img['id'])\n",
        "  anns = coco.loadAnns(annIds)\n",
        "  mask = np.zeros((img['height'],img['width']))\n",
        "  for a in range(len(anns)):\n",
        "    global flag\n",
        "    flag=1\n",
        "    className = getClassName(anns[a]['category_id'], cats)\n",
        "    #print(className)\n",
        "    classId= filterClasses.index(className)+1\n",
        "    mul=pixel_value(classId)\n",
        "    #m=maskimg(i,mul,mask)\n",
        "    categorycount=classcount(mul)\n",
        "    flag =class_count(classId)\n",
        "    print(flag)\n",
        "    if flag==0:\n",
        "      mask = np.maximum(coco.annToMask(anns[a])*mul, mask)\n",
        "      cv2.imwrite(\"/content/dataset/material_version/train_mask/\"+img['file_name'],mask);\n"
      ],
      "execution_count": 17,
      "outputs": []
    },
    {
      "cell_type": "code",
      "metadata": {
        "id": "wf1SkaF0NN2Y"
      },
      "source": [
        "import cv2\n",
        "import os\n",
        "import numpy as np\n",
        "from tqdm.notebook import tqdm\n",
        "for i in tqdm(range(6008)):\n",
        "  conversion(i)"
      ],
      "execution_count": null,
      "outputs": []
    },
    {
      "cell_type": "code",
      "metadata": {
        "id": "9Atx1aR4NQKw"
      },
      "source": [],
      "execution_count": null,
      "outputs": []
    }
  ]
}